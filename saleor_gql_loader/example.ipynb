{
 "cells": [
  {
   "cell_type": "markdown",
   "metadata": {
    "pycharm": {
     "name": "#%% md\n"
    }
   },
   "source": [
    "# A Simple Example of usage\n",
    "\n",
    "In this example I will go through creating the following entities in order:\n",
    "\n",
    "- warehouse\n",
    "- shipping zone\n",
    "- product attributes with their values.\n",
    "- categories\n",
    "- product type\n",
    "- products with variants and their stocks.\n",
    "\n",
    "I will use Tea product as a fictive example."
   ]
  },
  {
   "cell_type": "code",
   "execution_count": 7,
   "metadata": {
    "pycharm": {
     "name": "#%%\n"
    }
   },
   "outputs": [],
   "source": [
    "from saleor_gql_loader import ETLDataLoader"
   ]
  },
  {
   "cell_type": "code",
   "execution_count": 8,
   "metadata": {
    "pycharm": {
     "name": "#%%\n"
    }
   },
   "outputs": [],
   "source": [
    "# I generated a token for my app as explained in the README.md\n",
    "# https://github.com/grll/saleor-gql-loader/blob/master/README.md\n",
    "etl_data_loader = ETLDataLoader(\"LcLNVgUt8mu8yKJ0Wrh3nADnTT21uv\")"
   ]
  },
  {
   "cell_type": "code",
   "execution_count": 10,
   "metadata": {
    "pycharm": {
     "name": "#%%\n"
    }
   },
   "outputs": [
    {
     "data": {
      "text/plain": [
       "'V2FyZWhvdXNlOmI1MzVhMjUxLTE0NWMtNGRkYy05YmMzLWE3ODYwZmI2ZDVmNg=='"
      ]
     },
     "execution_count": 10,
     "metadata": {},
     "output_type": "execute_result"
    }
   ],
   "source": [
    "# create a default warehouse\n",
    "warehouse_id = etl_data_loader.create_warehouse()\n",
    "warehouse_id"
   ]
  },
  {
   "cell_type": "code",
   "execution_count": 11,
   "metadata": {
    "pycharm": {
     "name": "#%%\n"
    }
   },
   "outputs": [
    {
     "data": {
      "text/plain": [
       "'U2hpcHBpbmdab25lOjI='"
      ]
     },
     "execution_count": 11,
     "metadata": {},
     "output_type": "execute_result"
    }
   ],
   "source": [
    "# create a default shipping zone associated\n",
    "shipping_zone_id = etl_data_loader.create_shipping_zone(addWarehouses=[warehouse_id])\n",
    "shipping_zone_id"
   ]
  },
  {
   "cell_type": "code",
   "execution_count": 13,
   "metadata": {
    "pycharm": {
     "name": "#%%\n"
    }
   },
   "outputs": [],
   "source": [
    "# define my products usually extracted from csv or scraped...\n",
    "products = [\n",
    "    {\n",
    "        \"name\": \"tea a\",\n",
    "        \"description\": \"description for tea a\",\n",
    "        \"category\": \"green tea\",\n",
    "        \"price\": 5.5,\n",
    "        \"strength\": \"medium\"\n",
    "    },\n",
    "    {\n",
    "        \"name\": \"tea b\",\n",
    "        \"description\": \"description for tea b\",\n",
    "        \"category\": \"black tea\",\n",
    "        \"price\": 10.5,\n",
    "        \"strength\": \"strong\"\n",
    "    },\n",
    "    {\n",
    "        \"name\": \"tea c\",\n",
    "        \"description\": \"description for tea c\",\n",
    "        \"category\": \"green tea\",\n",
    "        \"price\": 9.5,\n",
    "        \"strength\": \"light\"\n",
    "    }\n",
    "]"
   ]
  },
  {
   "cell_type": "code",
   "execution_count": 14,
   "metadata": {
    "pycharm": {
     "name": "#%%\n"
    }
   },
   "outputs": [],
   "source": [
    "# add basic sku to products\n",
    "for i, product in enumerate(products):\n",
    "    product[\"sku\"] = \"{:05}-00\".format(i)"
   ]
  },
  {
   "cell_type": "code",
   "execution_count": 16,
   "metadata": {
    "pycharm": {
     "name": "#%%\n"
    }
   },
   "outputs": [],
   "source": [
    "# create the strength attribute\n",
    "strength_attribute_id = etl_data_loader.create_attribute(name=\"strength\")\n",
    "unique_strength = set([product['strength'] for product in products])\n",
    "for strength in unique_strength:\n",
    "    etl_data_loader.create_attribute_value(strength_attribute_id, name=strength)"
   ]
  },
  {
   "cell_type": "code",
   "execution_count": 17,
   "metadata": {
    "pycharm": {
     "name": "#%%\n"
    }
   },
   "outputs": [],
   "source": [
    "# create another quantity attribute used as variant:\n",
    "qty_attribute_id =  etl_data_loader.create_attribute(name=\"qty\")\n",
    "unique_qty = {\"100g\", \"200g\", \"300g\"}\n",
    "for qty in unique_qty:\n",
    "    etl_data_loader.create_attribute_value(qty_attribute_id, name=qty)"
   ]
  },
  {
   "cell_type": "code",
   "execution_count": 18,
   "metadata": {
    "pycharm": {
     "name": "#%%\n"
    }
   },
   "outputs": [],
   "source": [
    "# create a product type: tea\n",
    "product_type_id = etl_data_loader.create_product_type(name=\"tea\",\n",
    "                                                      hasVariants=True, \n",
    "                                                      productAttributes=[strength_attribute_id],\n",
    "                                                      variantAttributes=[qty_attribute_id])"
   ]
  },
  {
   "cell_type": "code",
   "execution_count": 19,
   "metadata": {
    "pycharm": {
     "name": "#%%\n"
    }
   },
   "outputs": [
    {
     "data": {
      "text/plain": [
       "{'black tea': 'Q2F0ZWdvcnk6NQ==', 'green tea': 'Q2F0ZWdvcnk6Ng=='}"
      ]
     },
     "execution_count": 19,
     "metadata": {},
     "output_type": "execute_result"
    }
   ],
   "source": [
    "# create categories\n",
    "unique_categories = set([product['category'] for product in products])\n",
    "\n",
    "cat_to_id = {}\n",
    "for category in unique_categories:\n",
    "    cat_to_id[category] = etl_data_loader.create_category(name=category)\n",
    "\n",
    "cat_to_id"
   ]
  },
  {
   "cell_type": "code",
   "execution_count": 20,
   "metadata": {
    "pycharm": {
     "name": "#%%\n"
    }
   },
   "outputs": [],
   "source": [
    "# create products and store id\n",
    "for i, product in enumerate(products):\n",
    "    product_id = etl_data_loader.create_product(product_type_id,\n",
    "                                                name=product[\"name\"],\n",
    "                                                description=product[\"description\"],\n",
    "                                                basePrice=product[\"price\"],\n",
    "                                                sku=product[\"sku\"],\n",
    "                                                category=cat_to_id[product[\"category\"]],\n",
    "                                                attributes=[{\"id\": strength_attribute_id, \"values\": [product[\"strength\"]]}],\n",
    "                                                isPublished=True)\n",
    "    products[i][\"id\"] = product_id"
   ]
  },
  {
   "cell_type": "code",
   "execution_count": 23,
   "metadata": {
    "pycharm": {
     "name": "#%%\n"
    }
   },
   "outputs": [],
   "source": [
    "# create some variant for each product:\n",
    "for product in products:\n",
    "    for i, qty in enumerate(unique_qty):\n",
    "        variant_id = etl_data_loader.create_product_variant(product_id,\n",
    "                                                            sku=product[\"sku\"].replace(\"-00\", \"-1{}\".format(i+1)),\n",
    "                                                            attributes=[{\"id\": qty_attribute_id, \"values\": [qty]}],\n",
    "                                                            costPrice=product[\"price\"],\n",
    "                                                            weight=0.75,\n",
    "                                                            stocks=[{\"warehouse\": warehouse_id, \"quantity\": 15}])"
   ]
  },
  {
   "cell_type": "code",
   "execution_count": null,
   "metadata": {
    "pycharm": {
     "name": "#%%\n"
    }
   },
   "outputs": [],
   "source": []
  }
 ],
 "metadata": {
  "kernelspec": {
   "display_name": "Python 3",
   "language": "python",
   "name": "python3"
  },
  "language_info": {
   "codemirror_mode": {
    "name": "ipython",
    "version": 3
   },
   "file_extension": ".py",
   "mimetype": "text/x-python",
   "name": "python",
   "nbconvert_exporter": "python",
   "pygments_lexer": "ipython3",
   "version": "3.8.2"
  }
 },
 "nbformat": 4,
 "nbformat_minor": 4
}